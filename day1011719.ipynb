{
 "cells": [
  {
   "cell_type": "markdown",
   "metadata": {},
   "source": [
    "### standard libraries\n",
    "- file i/o\n",
    "- regular expression\n",
    "- Datetime\n",
    "- Math(numerical and Mathematical)"
   ]
  },
  {
   "cell_type": "markdown",
   "metadata": {},
   "source": [
    "### file handling in pythom\n",
    "- file:- document containing information resides on permenant storage\n",
    "- different types of files :- txt,doc,pdf,csv and etc...\n",
    "- Input -- Keyboard\n",
    "- Output -- File\n",
    "### modes of the file i/o\n",
    "- 'w'--This mode is used to file writing\n",
    "- If the file is not present first it creates the file and write so me data to it"
   ]
  },
  {
   "cell_type": "code",
   "execution_count": 1,
   "metadata": {},
   "outputs": [
    {
     "name": "stdout",
     "output_type": "stream",
     "text": [
      "File is created and data has written\n"
     ]
    }
   ],
   "source": [
    "#Function to create a file and write to the file\n",
    "def createFile(filename):\n",
    "   f=open(filename,'w')\n",
    "   for i in range(10):\n",
    "       f.write('This is %d Line'%i)\n",
    "   print(\"File is created and data has written\")\n",
    "   return\n",
    "createFile('file1.txt')"
   ]
  },
  {
   "cell_type": "code",
   "execution_count": 2,
   "metadata": {},
   "outputs": [
    {
     "name": "stdout",
     "output_type": "stream",
     "text": [
      " Volume in drive C has no label.\n",
      " Volume Serial Number is 2A9C-B597\n",
      "\n",
      " Directory of C:\\Users\\mplab\n",
      "\n",
      "11-07-2019  09:38    <DIR>          .\n",
      "11-07-2019  09:38    <DIR>          ..\n",
      "17-06-2019  09:31    <DIR>          .anaconda\n",
      "05-07-2019  09:53               804 .bash_history\n",
      "17-06-2019  09:33    <DIR>          .conda\n",
      "17-06-2019  09:32                43 .condarc\n",
      "11-07-2019  09:14    <DIR>          .ipynb_checkpoints\n",
      "17-06-2019  09:33    <DIR>          .ipython\n",
      "24-06-2019  09:42    <DIR>          .jupyter\n",
      "05-07-2019  15:14    <DIR>          Anaconda3\n",
      "10-07-2019  15:00             2,537 assignment.ipynb\n",
      "14-06-2019  15:23    <DIR>          Contacts\n",
      "10-07-2019  11:06               989 day 10 2019 2.ipynb\n",
      "27-06-2019  12:51             4,358 day 10.ipynb\n",
      "09-07-2019  16:35             5,672 day 8 2019.ipynb\n",
      "09-07-2019  10:23             3,308 day 9.ipynb\n",
      "10-07-2019  14:22            14,499 day10 2019.ipynb\n",
      "26-06-2019  11:02             5,258 day9.ipynb\n",
      "06-07-2019  13:23    <DIR>          Desktop\n",
      "10-07-2019  16:14    <DIR>          Documents\n",
      "10-07-2019  11:08    <DIR>          Downloads\n",
      "14-06-2019  15:23    <DIR>          Favorites\n",
      "27-06-2019  12:20               194 file.txt\n",
      "11-07-2019  09:39               140 file1.txt\n",
      "14-06-2019  15:23    <DIR>          Links\n",
      "14-06-2019  15:23    <DIR>          Music\n",
      "20-06-2019  16:05    <DIR>          Pictures\n",
      "14-06-2019  15:23    <DIR>          Saved Games\n",
      "14-06-2019  15:23    <DIR>          Searches\n",
      "05-07-2019  12:35             1,575 Untitled.ipynb\n",
      "06-07-2019  12:42             2,672 Untitled1.ipynb\n",
      "08-07-2019  10:27             3,197 Untitled2.ipynb\n",
      "08-07-2019  11:55               555 Untitled3.ipynb\n",
      "08-07-2019  14:43             1,474 Untitled4.ipynb\n",
      "09-07-2019  16:01               555 Untitled5.ipynb\n",
      "11-07-2019  09:38             1,944 Untitled6.ipynb\n",
      "08-07-2019  15:26               555 ushasvi.ipynb\n",
      "14-06-2019  15:23    <DIR>          Videos\n",
      "              19 File(s)         50,329 bytes\n",
      "              19 Dir(s)  187,872,911,360 bytes free\n"
     ]
    }
   ],
   "source": [
    "ls"
   ]
  },
  {
   "cell_type": "code",
   "execution_count": 4,
   "metadata": {},
   "outputs": [
    {
     "name": "stdout",
     "output_type": "stream",
     "text": [
      "File is created and data has written\n"
     ]
    }
   ],
   "source": [
    "def createFile(filename):\n",
    "   f=open(filename,'w')\n",
    "   f.write('Testing..\\n')\n",
    "   print(\"File is created and data has written\")\n",
    "   return\n",
    "createFile('file1.txt')"
   ]
  },
  {
   "cell_type": "code",
   "execution_count": 5,
   "metadata": {},
   "outputs": [
    {
     "name": "stdout",
     "output_type": "stream",
     "text": [
      "FileCreated and Successfully data written\n"
     ]
    }
   ],
   "source": [
    "def appendData(filename):\n",
    "   f=open(filename,'a')\n",
    "   for i in range(10):\n",
    "       f.write(\"This is %d Line\\n\"%i)\n",
    "   print(\"FileCreated and Successfully data written\")\n",
    "   return\n",
    "appendData('file2.txt')\n"
   ]
  },
  {
   "cell_type": "code",
   "execution_count": 11,
   "metadata": {},
   "outputs": [
    {
     "name": "stdout",
     "output_type": "stream",
     "text": [
      "Enter the file namefile2.txt\n",
      "Enter the mode of the filer\n",
      "This is 0 Line\n",
      "This is 1 Line\n",
      "This is 2 Line\n",
      "This is 3 Line\n",
      "This is 4 Line\n",
      "This is 5 Line\n",
      "This is 6 Line\n",
      "This is 7 Line\n",
      "This is 8 Line\n",
      "This is 9 Line\n",
      "\n"
     ]
    }
   ],
   "source": [
    "#Function to read the File\n",
    "def fileOperations(filename,mode):\n",
    "    with open(filename,mode) as f:\n",
    "        if f.mode=='r':\n",
    "            data=f.read()\n",
    "            print(data)\n",
    "        elif f.mode=='a':\n",
    "            f.write('Data to the File')\n",
    "            print('The data successfully written')\n",
    "    f.close()\n",
    "    return\n",
    "filename=input('Enter the file name')\n",
    "mode=input('Enter the mode of the file')\n",
    "fileOperations(filename,mode)"
   ]
  },
  {
   "cell_type": "code",
   "execution_count": 13,
   "metadata": {},
   "outputs": [
    {
     "name": "stdout",
     "output_type": "stream",
     "text": [
      "Enter the file name:file2.txt\n",
      "Enter the word:Line\n"
     ]
    },
    {
     "data": {
      "text/plain": [
       "10"
      ]
     },
     "execution_count": 13,
     "metadata": {},
     "output_type": "execute_result"
    }
   ],
   "source": [
    "#Data Analysis\n",
    "#Word Count Program\n",
    "def wordCount(filename,word):\n",
    "    with open(filename,'r') as f:\n",
    "        if f.mode=='r':\n",
    "            x=f.read()\n",
    "            li=x.split() # It's splits the string with whitespace\n",
    "    cnt=li.count(word)\n",
    "    return cnt\n",
    "filename=input('Enter the file name:')\n",
    "word=input('Enter the word:') # which word count you need\n",
    "wordCount(filename,word)"
   ]
  },
  {
   "cell_type": "code",
   "execution_count": 14,
   "metadata": {},
   "outputs": [
    {
     "name": "stdout",
     "output_type": "stream",
     "text": [
      "Enter the filename:file2.txt\n"
     ]
    },
    {
     "data": {
      "text/plain": [
       "150"
      ]
     },
     "execution_count": 14,
     "metadata": {},
     "output_type": "execute_result"
    }
   ],
   "source": [
    "#character count from the given file\n",
    "def charCount(filename):\n",
    "    with open(filename,'r') as f:\n",
    "        if f.mode=='r':\n",
    "            x=f.read()\n",
    "            li=list(x)\n",
    "    return len(li)\n",
    "filename=input('Enter the filename:')\n",
    "charCount(filename)"
   ]
  },
  {
   "cell_type": "code",
   "execution_count": 15,
   "metadata": {},
   "outputs": [
    {
     "name": "stdout",
     "output_type": "stream",
     "text": [
      "['Python Progr', 'mming']\n"
     ]
    }
   ],
   "source": [
    "\n",
    "s1=\"Python Programming\"\n",
    "print(s1.split('a'))"
   ]
  },
  {
   "cell_type": "code",
   "execution_count": 16,
   "metadata": {},
   "outputs": [],
   "source": [
    "#Function to find the no of lines in the input file\n",
    "#Input--filename(file2.txt)\n",
    "#output--No of lines(12"
   ]
  },
  {
   "cell_type": "code",
   "execution_count": 17,
   "metadata": {},
   "outputs": [
    {
     "name": "stdout",
     "output_type": "stream",
     "text": [
      "Enter the filename :file2.txt\n"
     ]
    },
    {
     "data": {
      "text/plain": [
       "11"
      ]
     },
     "execution_count": 17,
     "metadata": {},
     "output_type": "execute_result"
    }
   ],
   "source": [
    "#Function to find the no of lines in the input file\n",
    "#Input--filename(file2.txt)\n",
    "#output--No of lines(12)\n",
    "def countOfLines(filename):\n",
    "    with open(filename,'r') as f:\n",
    "        if f.mode=='r':\n",
    "            x=f.read()\n",
    "            li=x.split(\"\\n\")\n",
    "    return len(li)\n",
    "filename=input('Enter the filename :')\n",
    "countOfLines(filename)"
   ]
  },
  {
   "cell_type": "markdown",
   "metadata": {},
   "source": [
    "#Function to print the Upper and Lower characters\n",
    "def caseCount(filename):\n",
    "    cntUpper=0\n",
    "    cntLower=0\n",
    "    with open(filename,'r') as f:\n",
    "        if f.mode=='r':\n",
    "            x=f.read()\n",
    "            li=list(x)\n",
    "    for i in li:\n",
    "        if i.isupper():\n",
    "            cntUpper+=1 #cntUpper=cntUpper+1\n",
    "        elif i.islower():\n",
    "            cntLower+=1 #cntLower=cntLower+1\n",
    "    output='Upper Case={0},Lower Case={1}'.format(cntUpper,cntLower)\n",
    "    return output\n",
    "filename=input('Enter the filename :')\n",
    "caseCount(filename)"
   ]
  },
  {
   "cell_type": "markdown",
   "metadata": {},
   "source": [
    "### math,random,os¶\n",
    "- os package it contains the certains methods which works with OS\n"
   ]
  },
  {
   "cell_type": "code",
   "execution_count": null,
   "metadata": {},
   "outputs": [],
   "source": []
  },
  {
   "cell_type": "code",
   "execution_count": null,
   "metadata": {},
   "outputs": [],
   "source": []
  },
  {
   "cell_type": "code",
   "execution_count": null,
   "metadata": {},
   "outputs": [],
   "source": []
  }
 ],
 "metadata": {
  "kernelspec": {
   "display_name": "Python 3",
   "language": "python",
   "name": "python3"
  },
  "language_info": {
   "codemirror_mode": {
    "name": "ipython",
    "version": 3
   },
   "file_extension": ".py",
   "mimetype": "text/x-python",
   "name": "python",
   "nbconvert_exporter": "python",
   "pygments_lexer": "ipython3",
   "version": "3.7.3"
  }
 },
 "nbformat": 4,
 "nbformat_minor": 2
}
